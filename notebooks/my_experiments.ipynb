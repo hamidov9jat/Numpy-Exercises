{
 "cells": [
  {
   "cell_type": "code",
   "execution_count": 2,
   "id": "3566c1d2-cd53-4122-a40f-d2b292644cfd",
   "metadata": {},
   "outputs": [
    {
     "data": {
      "text/plain": [
       "29623"
      ]
     },
     "execution_count": 2,
     "metadata": {},
     "output_type": "execute_result"
    }
   ],
   "source": [
    "import requests\n",
    "\n",
    "# Importing notebook with annotations\n",
    "\n",
    "url = 'https://raw.githubusercontent.com/hamidov9jat/zero-to-mastery-ml/master/section-2-data-science-and-ml-tools/introduction-to-numpy.ipynb'\n",
    "r = requests.get(url, allow_redirects=True)\n",
    "open('introduction-to-numpy.ipynb', 'wb').write(r.content)\n",
    "\n",
    "# Importing notebook from video\n",
    "\n",
    "url = 'https://raw.githubusercontent.com/hamidov9jat/zero-to-mastery-ml/master/section-2-data-science-and-ml-tools/introduction-to-numpy-video.ipynb'\n",
    "r = requests.get(url, allow_redirects=True)\n",
    "open('introduction-to-numpy-video.ipynb', 'wb').write(r.content)\n",
    "\n",
    "# Importing exercise notebook\n",
    "\n",
    "url = 'https://raw.githubusercontent.com/hamidov9jat/zero-to-mastery-ml/master/section-2-data-science-and-ml-tools/numpy-exercises.ipynb'\n",
    "r = requests.get(url, allow_redirects=True)\n",
    "open('numpy-exercises.ipynb', 'wb').write(r.content)\n",
    "\n",
    "# Importing solutions notebook\n",
    "\n",
    "url = 'https://raw.githubusercontent.com/hamidov9jat/zero-to-mastery-ml/master/section-2-data-science-and-ml-tools/numpy-exercises-solutions.ipynb'\n",
    "r = requests.get(url, allow_redirects=True)\n",
    "open('numpy-exercises-solutions.ipynb', 'wb').write(r.content)"
   ]
  },
  {
   "cell_type": "code",
   "execution_count": null,
   "id": "2edcd51f-5fb6-4d06-997c-9c247663af4d",
   "metadata": {},
   "outputs": [],
   "source": []
  },
  {
   "cell_type": "code",
   "execution_count": null,
   "id": "062f6034-8b43-4b48-bfce-47baa7ef5955",
   "metadata": {},
   "outputs": [],
   "source": []
  }
 ],
 "metadata": {
  "kernelspec": {
   "display_name": "Python 3 (ipykernel)",
   "language": "python",
   "name": "python3"
  },
  "language_info": {
   "codemirror_mode": {
    "name": "ipython",
    "version": 3
   },
   "file_extension": ".py",
   "mimetype": "text/x-python",
   "name": "python",
   "nbconvert_exporter": "python",
   "pygments_lexer": "ipython3",
   "version": "3.10.8"
  }
 },
 "nbformat": 4,
 "nbformat_minor": 5
}
